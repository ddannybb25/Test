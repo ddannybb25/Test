{
  "nbformat": 4,
  "nbformat_minor": 0,
  "metadata": {
    "colab": {
      "provenance": [],
      "collapsed_sections": [],
      "include_colab_link": true
    },
    "kernelspec": {
      "name": "python3",
      "display_name": "Python 3"
    },
    "language_info": {
      "name": "python"
    }
  },
  "cells": [
    {
      "cell_type": "markdown",
      "metadata": {
        "id": "view-in-github",
        "colab_type": "text"
      },
      "source": [
        "<a href=\"https://colab.research.google.com/github/ddannybb25/Test/blob/main/n131a_Linear_Algebra.ipynb\" target=\"_parent\"><img src=\"https://colab.research.google.com/assets/colab-badge.svg\" alt=\"Open In Colab\"/></a>"
      ]
    },
    {
      "cell_type": "markdown",
      "source": [
        "<img src='https://i.imgur.com/RDAD11M.png' width = '200' align = 'right'>\n",
        "\n",
        "## *DATA SCIENCE / SECTION 1 / SPRINT 3 / NOTE 1*\n",
        "\n",
        "# 📝 Assignment"
      ],
      "metadata": {
        "id": "vFDfOciGt_uF"
      }
    },
    {
      "cell_type": "markdown",
      "source": [
        "# 🌱 **기본 과제**"
      ],
      "metadata": {
        "id": "Ba3HfXIGqcaL"
      }
    },
    {
      "cell_type": "markdown",
      "source": [
        "## **Part 1. Dot product & Matrix Multiplication**"
      ],
      "metadata": {
        "id": "r-_BgIgUEJPa"
      }
    },
    {
      "cell_type": "markdown",
      "source": [
        "### **1-1. Dot product**\n",
        "\n",
        "- Dot product를 이용하여 구매자별 구매 총합을 계산하세요.\n",
        "  - Data Description\n",
        "    - People : 구매자\n",
        "    - Name : 제품명\n",
        "    - Price : 제품 개당 가격\n",
        "    - Amount : 제품 구매 갯수\n",
        "\n",
        "|People|Name|Price|Amount|\n",
        "|:-:|:-:|:-:|:-:|\n",
        "|X|A|100|35|\n",
        "|X|B|500|10|\n",
        "|X|C|250|25|\n",
        "|X|D|50|40|\n",
        "|Y|A|100|-|\n",
        "|Y|B|500|50|\n",
        "|Y|C|250|50|\n",
        "|Y|D|50|-|\n",
        "|Z|A|100|-|\n",
        "|Z|B|500|-|\n",
        "|Z|C|250|100|\n",
        "|Z|D|50|-|"
      ],
      "metadata": {
        "id": "Hwv5Gm0zuFiN"
      }
    },
    {
      "cell_type": "markdown",
      "source": [
        "##### **Q1. Dot product를 통해 구한 구매자 X의 구매 총합을 쓰세요.**"
      ],
      "metadata": {
        "id": "u-it5R1olczu"
      }
    },
    {
      "cell_type": "code",
      "source": [
        "import numpy as np"
      ],
      "metadata": {
        "id": "SGITLSgbeQ20"
      },
      "execution_count": 2,
      "outputs": []
    },
    {
      "cell_type": "code",
      "source": [
        "# 이 곳에 코드를 작성하세요.\n",
        "x_price=[100,500,250,50]\n",
        "x_amount=[35,10,25,40]\n",
        "\n",
        "x_price=np.array(x_price)\n",
        "x_amount=np.array(x_amount)\n",
        "\n",
        "(x_price*x_amount).sum()\n"
      ],
      "metadata": {
        "id": "sF1mcav4P6Yx",
        "colab": {
          "base_uri": "https://localhost:8080/"
        },
        "outputId": "7adc2eb8-a2fc-4e06-8d43-9ec8f01d0d87"
      },
      "execution_count": 4,
      "outputs": [
        {
          "output_type": "execute_result",
          "data": {
            "text/plain": [
              "16750"
            ]
          },
          "metadata": {},
          "execution_count": 4
        }
      ]
    },
    {
      "cell_type": "code",
      "source": [
        "#해설\n",
        "\n",
        "price = np.array([100, 500, 250, 50])\n",
        "X = np.array([35, 10, 25, 40])\n",
        "Y = np.array([0, 50, 50, 0])\n",
        "Z = np.array([0, 0, 100, 0])\n",
        "\n",
        "res1 = [np.dot(price, person) for person in (X, Y, Z)]\n",
        "res1[0]"
      ],
      "metadata": {
        "id": "vEBJAZxAecKa"
      },
      "execution_count": null,
      "outputs": []
    },
    {
      "cell_type": "markdown",
      "source": [
        "### **1-2. Matrix Multiplication**\n",
        "- Matrix Multiplication을 이용하여 구매자별 구매 총합을 계산하세요."
      ],
      "metadata": {
        "id": "KJE6pkd_kO6-"
      }
    },
    {
      "cell_type": "markdown",
      "source": [
        "##### **Q2. Matrix Multiplication을 통해 구한 구매자 Y의 구매 총합을 쓰세요.**"
      ],
      "metadata": {
        "id": "-waUDPuHqaGS"
      }
    },
    {
      "cell_type": "code",
      "source": [
        "# 이 곳에 코드를 작성하세요. \n",
        "#Matrix Multiplication(행렬곱)\n",
        "\n",
        "y_price=np.array([100,500,250,50])\n",
        "y_amount=np.array([0,50,50,0])\n",
        "\n",
        "np.matmul(y_price,y_amount)\n"
      ],
      "metadata": {
        "id": "xXRe7QjkP9Ck",
        "colab": {
          "base_uri": "https://localhost:8080/"
        },
        "outputId": "da921c41-b479-461c-c98c-3035b8173dac"
      },
      "execution_count": 5,
      "outputs": [
        {
          "output_type": "execute_result",
          "data": {
            "text/plain": [
              "37500"
            ]
          },
          "metadata": {},
          "execution_count": 5
        }
      ]
    },
    {
      "cell_type": "code",
      "source": [
        "#해설\n",
        "amount = np.array([[35, 10, 25, 40], [0, 50, 50, 0], [0, 0 , 100, 0]])\n",
        "price = np.array([100, 500, 250, 50])\n",
        "\n",
        "res2 = np.matmul(amount, price)\n",
        "res2[1]"
      ],
      "metadata": {
        "id": "2nOAC8H7hgfa"
      },
      "execution_count": null,
      "outputs": []
    },
    {
      "cell_type": "markdown",
      "source": [
        "## **Part 2. Numpy 연산**"
      ],
      "metadata": {
        "id": "XtbJrn1v2Yx7"
      }
    },
    {
      "cell_type": "markdown",
      "source": [
        "### **2-1. Norm**\n",
        "\n",
        "- 주어진 값 $x_0, x_1, ... x_n$ 를 element로 갖는 $\\vec v$에 대하여 \n",
        "  - $L_1$ Norm 의 정의는 다음과 같습니다. \n",
        "    > $|\\vec v| = |x_0| + |x_1| + ... + |x_n|$ <br>\n",
        "  - $L_2$ Norm 의 정의는 다음과 같습니다.\n",
        "    > $||\\vec v|| = \\sqrt {{x_0}^2 + {x_1}^2 + ... + {x_n}^2}$\n",
        "- 이를 참조하여 주어진 벡터에 대해서 $L_2$ Norm 의 값과 $L_1$ Norm 의 값의 차의 절대값을 계산하는 함수를 만드세요."
      ],
      "metadata": {
        "id": "78YBp8xRLeI0"
      }
    },
    {
      "cell_type": "markdown",
      "source": [
        "##### **Q3. $\\vec v = [3, -1, 8, 9]$일 때, NormDif($\\vec v$)의 결과값을 반올림하여 소수점 둘째 자리까지 쓰세요.**"
      ],
      "metadata": {
        "id": "_YkmVHS4r-uY"
      }
    },
    {
      "cell_type": "code",
      "source": [
        "def NormDif(v):\n",
        "    L1_norm=np.linalg.norm(v,ord=1)\n",
        "    L2_norm = np.linalg.norm(v, ord=2)\n",
        "    return np.abs(L2_norm-L1_norm)\n",
        "\n",
        "v=np.array([3,-1,8,9])\n",
        "print(round(NormDif(v),2))"
      ],
      "metadata": {
        "colab": {
          "base_uri": "https://localhost:8080/"
        },
        "id": "nbHNPUQhvhpj",
        "outputId": "3a12f010-e0c5-4d77-fe50-668160dc610a"
      },
      "execution_count": 35,
      "outputs": [
        {
          "output_type": "stream",
          "name": "stdout",
          "text": [
            "8.55\n"
          ]
        }
      ]
    },
    {
      "cell_type": "markdown",
      "source": [
        "### **2-2. Errors**\n",
        "\n",
        "- 2개의 벡터와 error의 타입을 입력받아 그 결과값을 계산하는 함수를 작성하세요.\n",
        "  - error의 타입은 `MSE`, `MAE` 2가지입니다.\n",
        "> ${\\rm MSE} = {1 \\over n} \\sum_{i=1}^n ({\\hat Y_i}-Y_i)^2$\n",
        ">\n",
        "> ${\\rm MAE} = {1 \\over n} \\sum_{i=1}^n |{\\hat Y_i}-Y_i|$\n",
        ">\n",
        "> where $\\hat Y_i$ : 예측값(prediction), $Y_i$ : 실제값(target) "
      ],
      "metadata": {
        "id": "ucbXs8Zz2sAo"
      }
    },
    {
      "cell_type": "markdown",
      "source": [
        "##### **Q4. 예측값 $x = [2085, 1815, 2235, 1400, 2500, 1430, 3070, 2000, 1299, 1180]$ 이고, 실제값 $y=[2103, 2099, 1985, 1630, 2480, 1300, 3200, 1990, 1405, 1210]$ 일 때, error 함수를 통해 얻은 MSE와 MAE 결과값을 (MSE 값, MAE 값) 형태로 쓰세요.**"
      ],
      "metadata": {
        "id": "EzwHTNfhNRMJ"
      }
    },
    {
      "cell_type": "code",
      "source": [
        "from sklearn.metrics import mean_absolute_error as mae\n",
        "from sklearn.metrics import mean_squared_error as mse"
      ],
      "metadata": {
        "id": "2tXUNqdgncfA"
      },
      "execution_count": 12,
      "outputs": []
    },
    {
      "cell_type": "code",
      "source": [
        "def error(x, y, type):\n",
        "    MAE=mae(x,y)\n",
        "    MSE=mse(x,y)\n",
        "    if type == 'MAE':\n",
        "        return MAE\n",
        "    elif type== 'MSE':\n",
        "        return MSE\n",
        "print(error(np.array([2085,1815,2235,1400,2500,1430,3070,2000,1299,1180]),np.array([2103,2099,1985,1630,2480,1300,3200,1990,1405,1210]),'MSE'))\n",
        "print(error(np.array([2085,1815,2235,1400,2500,1430,3070,2000,1299,1180]),np.array([2103,2099,1985,1630,2480,1300,3200,1990,1405,1210]),'MAE'))\n"
      ],
      "metadata": {
        "id": "ixc8RzflQD9b",
        "colab": {
          "base_uri": "https://localhost:8080/"
        },
        "outputId": "22869db5-5ded-422a-dd83-fc6fa568e058"
      },
      "execution_count": 13,
      "outputs": [
        {
          "output_type": "stream",
          "name": "stdout",
          "text": [
            "24281.6\n",
            "120.8\n"
          ]
        }
      ]
    },
    {
      "cell_type": "markdown",
      "source": [
        "## **Part 3. Span**\n",
        "\n",
        "- 다음 벡터들의 span과 이것이 의미하는 바를 설명하세요.\n",
        "> $g = \\begin{bmatrix} 1 & 3 \\end{bmatrix}\n",
        "\\qquad\n",
        "h = \\begin{bmatrix} 2 & 6 \\end{bmatrix}$\n",
        "\n",
        "  - `np.stack()`을 사용하여 두 벡터 g, h를 하나의 matrix로 합치세요.\n",
        "  - matrix의 rank를 구해 보세요. "
      ],
      "metadata": {
        "id": "jR6NUOL33ng6"
      }
    },
    {
      "cell_type": "code",
      "source": [
        "g=np.array([1,3])\n",
        "h=np.array([2,6])\n",
        "\n",
        "m=np.stack([g,h])\n",
        "#print(m)\n",
        "np.linalg.matrix_rank(m) #1"
      ],
      "metadata": {
        "colab": {
          "base_uri": "https://localhost:8080/"
        },
        "id": "58Am9c6tpve9",
        "outputId": "4f399aeb-4989-409f-f1d9-15f793d1b1df"
      },
      "execution_count": 15,
      "outputs": [
        {
          "output_type": "execute_result",
          "data": {
            "text/plain": [
              "1"
            ]
          },
          "metadata": {},
          "execution_count": 15
        }
      ]
    },
    {
      "cell_type": "markdown",
      "source": [
        "##### **Q5. 두 벡터 g와 h의 span으로 옳은 것을 고르세요.**\n",
        "- 점 \n",
        "- 직선\n",
        "- 평면 \n",
        "- 3차원 공간 \n",
        "\n"
      ],
      "metadata": {
        "id": "LhzNyRKQRXfF"
      }
    },
    {
      "cell_type": "code",
      "source": [
        "#직선"
      ],
      "metadata": {
        "id": "jXNaZii9qfbF"
      },
      "execution_count": null,
      "outputs": []
    },
    {
      "cell_type": "markdown",
      "source": [
        "##### **Q6. rank를 통해 확인할 수 있는 두 벡터 g와 h의 관계로 옳은 것을 고르세요.**\n",
        "- 선형 관계에 있는 벡터(Linearly dependent vector)\n",
        "- 선형 관계가 없는 벡터(Linearly independent vector) "
      ],
      "metadata": {
        "id": "JsmvsGsCoHnI"
      }
    },
    {
      "cell_type": "code",
      "source": [
        "# 이 곳에 코드를 작성하세요.\n",
        "#선형 관계에 있는 벡터 "
      ],
      "metadata": {
        "id": "QJ9JzL8vQcD2"
      },
      "execution_count": null,
      "outputs": []
    },
    {
      "cell_type": "markdown",
      "source": [
        "# 🥇 **도전 과제** "
      ],
      "metadata": {
        "id": "yQKicJq8saha"
      }
    },
    {
      "cell_type": "markdown",
      "source": [
        "## **Part 4. Cramer's rule**\n",
        "\n",
        "- **Cramer's rule을 사용해 $x_1$, $x_2$, $x_3$의 값을 구하세요. (단, 반올림하여 소수점 둘째 자리까지 쓰세요.)**\n",
        "> $x_1$ + $2x_3$ = 6\n",
        ">\n",
        "> $-3x_1$ + $4x_2$ + $6x_3$ = 30\n",
        ">\n",
        "> $-x_1$ $-2x_2$ + $3x_3$ = 8"
      ],
      "metadata": {
        "id": "if2a35Q8rFIP"
      }
    },
    {
      "cell_type": "code",
      "source": [
        "# 이 곳에 코드를 작성하세요.\n",
        "from numpy import linalg\n",
        "\n",
        "a=[[1,0,2],[-3,4,6],[-1,-2,3]]\n",
        "b=[6,30,8]\n",
        "c=[[1,0,2],[-3,4,6],[-1,-2,3]]\n",
        "\n",
        "x=[]\n",
        "for i in range(0,len(b)):\n",
        "    for j in range(0,len(b)):\n",
        "        c[j][i]=b[j]\n",
        "        if i >0:\n",
        "            c[j][i-1]=a[j][i-1]\n",
        "    x.append(round(linalg.det(c)/linalg.det(a),3))\n",
        "print(round(x[0],2))\n",
        "print(round(x[1],2))\n",
        "print(round(x[2]),2)\n",
        "#print('x1={0}'.format(x[0]),'x2={0}'.format(x[1]),'x3={0}'.format(x[2]))"
      ],
      "metadata": {
        "id": "rJZz_e-AQjQB",
        "colab": {
          "base_uri": "https://localhost:8080/"
        },
        "outputId": "c4b5575b-edaf-4dee-cb8f-53ea433b837c"
      },
      "execution_count": 6,
      "outputs": [
        {
          "output_type": "stream",
          "name": "stdout",
          "text": [
            "-0.91\n",
            "1.64\n",
            "3 2\n"
          ]
        }
      ]
    }
  ]
}